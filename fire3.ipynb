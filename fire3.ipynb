{
  "nbformat": 4,
  "nbformat_minor": 0,
  "metadata": {
    "colab": {
      "provenance": []
    },
    "kernelspec": {
      "name": "python3",
      "display_name": "Python 3"
    },
    "language_info": {
      "name": "python"
    }
  },
  "cells": [
    {
      "cell_type": "code",
      "execution_count": 1,
      "metadata": {
        "id": "BRPmZQaMWXaW"
      },
      "outputs": [],
      "source": [
        "import numpy as np\n",
        "import pandas as pd\n",
        "import matplotlib.pyplot as plt\n",
        "import seaborn as sns\n",
        "from sklearn.model_selection import train_test_split\n",
        "from sklearn.linear_model import LogisticRegression\n",
        "from sklearn.feature_selection import SelectKBest, f_classif, mutual_info_classif\n",
        "from sklearn.ensemble import RandomForestClassifier\n",
        "from sklearn.feature_selection import SelectKBest, f_classif, mutual_info_classif\n",
        "from sklearn.ensemble import RandomForestClassifier\n",
        "from sklearn.preprocessing import StandardScaler\n",
        "from sklearn.metrics import  accuracy_score,classification_report,ConfusionMatrixDisplay\n",
        "from sklearn.neighbors import KNeighborsClassifier\n",
        "from xgboost import XGBClassifier\n",
        "from sklearn.preprocessing import LabelEncoder, OneHotEncoder"
      ]
    },
    {
      "cell_type": "code",
      "source": [
        "df1 = pd.read_csv('/content/modis_2021_India.csv')\n",
        "df2 = pd.read_csv('/content/modis_2022_India.csv')\n",
        "df3 = pd.read_csv('/content/modis_2023_India.csv')"
      ],
      "metadata": {
        "id": "auLMhQ3hXXGw"
      },
      "execution_count": 2,
      "outputs": []
    },
    {
      "cell_type": "code",
      "source": [
        "df1.head() # print first 5 rows - df1.tail()"
      ],
      "metadata": {
        "id": "M7rIPhxqXlLt"
      },
      "execution_count": null,
      "outputs": []
    },
    {
      "cell_type": "code",
      "source": [
        "df2.head()"
      ],
      "metadata": {
        "id": "nrjoD-YGXndh"
      },
      "execution_count": null,
      "outputs": []
    },
    {
      "cell_type": "code",
      "source": [
        "df3.head()"
      ],
      "metadata": {
        "id": "20yiIqVHXtVW"
      },
      "execution_count": null,
      "outputs": []
    },
    {
      "cell_type": "code",
      "source": [
        "df = pd.concat([df1, df2, df3], ignore_index=True)\n",
        "df.head()"
      ],
      "metadata": {
        "id": "sl2BOszZXxli"
      },
      "execution_count": null,
      "outputs": []
    },
    {
      "cell_type": "code",
      "source": [
        "df.shape # rows and cols"
      ],
      "metadata": {
        "id": "BPrWduo4X0ba"
      },
      "execution_count": null,
      "outputs": []
    },
    {
      "cell_type": "code",
      "source": [
        "df.info() # dt, memc"
      ],
      "metadata": {
        "id": "6UiVLi99X6zw"
      },
      "execution_count": null,
      "outputs": []
    },
    {
      "cell_type": "code",
      "source": [
        "# Any missing values?\n",
        "df.isnull().sum()"
      ],
      "metadata": {
        "id": "_7tu5c2eX-Yu"
      },
      "execution_count": null,
      "outputs": []
    },
    {
      "cell_type": "code",
      "source": [
        "df.duplicated().sum()"
      ],
      "metadata": {
        "id": "9fmt2ROVYAo_"
      },
      "execution_count": null,
      "outputs": []
    },
    {
      "cell_type": "code",
      "source": [
        "# List out column names to check\n",
        "df.columns"
      ],
      "metadata": {
        "id": "MOUO-R3ZYMPd"
      },
      "execution_count": null,
      "outputs": []
    },
    {
      "cell_type": "code",
      "source": [
        "df.describe().T # statistics of dataset - numbers!"
      ],
      "metadata": {
        "id": "AxGGBnNEYVRW"
      },
      "execution_count": null,
      "outputs": []
    },
    {
      "cell_type": "code",
      "source": [
        "# Check Unique values of target variable\n",
        "df.type.value_counts()"
      ],
      "metadata": {
        "id": "2ZWnmlmbYZG_"
      },
      "execution_count": null,
      "outputs": []
    },
    {
      "cell_type": "code",
      "source": [
        "# Check unique and n unique for all categorical features\n",
        "for col in df.columns:\n",
        "  if df[col].dtype == 'object':\n",
        "    print(f\"Column: {col}\")\n",
        "    print(f\"Unique values: {df[col].unique()}\")\n",
        "    print(f\"Number of unique values: {df[col].nunique()}\")\n",
        "    print(\"-\" * 50)"
      ],
      "metadata": {
        "id": "FhNsN4A0YdDC"
      },
      "execution_count": null,
      "outputs": []
    },
    {
      "cell_type": "code",
      "source": [
        "# Count plot for 'type'\n",
        "plt.figure(figsize=(8, 6))\n",
        "sns.countplot(x='type', data=df)\n",
        "plt.title('Distribution of Fire Types')\n",
        "plt.xlabel('Fire Type')\n",
        "plt.ylabel('Count')\n",
        "plt.show()"
      ],
      "metadata": {
        "id": "FqmMjmY6Yhgj"
      },
      "execution_count": null,
      "outputs": []
    },
    {
      "cell_type": "code",
      "source": [
        "# Histogram of 'confidence'\n",
        "plt.figure(figsize=(8, 6))\n",
        "sns.histplot(df['confidence'], bins=20, kde=True)\n",
        "plt.title('Distribution of Confidence')\n",
        "plt.xlabel('Confidence')\n",
        "plt.ylabel('Frequency')\n",
        "plt.show()"
      ],
      "metadata": {
        "id": "3qqIPFrCYmUx"
      },
      "execution_count": null,
      "outputs": []
    },
    {
      "cell_type": "code",
      "source": [
        "# Box plot for 'confidence' by 'type'\n",
        "plt.figure(figsize=(8, 6))\n",
        "sns.boxplot(x='type', y='confidence', data=df)\n",
        "plt.title('Confidence by Fire Type')\n",
        "plt.xlabel('Fire Type')\n",
        "plt.ylabel('Confidence')\n",
        "plt.show()"
      ],
      "metadata": {
        "id": "HI-SbIzyhd4H"
      },
      "execution_count": null,
      "outputs": []
    },
    {
      "cell_type": "code",
      "source": [
        "# Scatter plot of 'latitude' vs 'longitude'\n",
        "plt.figure(figsize=(10, 8))\n",
        "sns.scatterplot(x='longitude', y='latitude', data=df, hue='type', s=10)\n",
        "plt.title('Fire Locations by Type')\n",
        "plt.xlabel('Longitude')\n",
        "plt.ylabel('Latitude')\n",
        "plt.legend(title='Fire Type')\n",
        "plt.show()"
      ],
      "metadata": {
        "id": "LRefZJxjhjCj"
      },
      "execution_count": null,
      "outputs": []
    },
    {
      "cell_type": "code",
      "source": [
        "# Count plot for 'daynight'\n",
        "plt.figure(figsize=(6, 4))\n",
        "sns.countplot(x='daynight', data=df)\n",
        "plt.title('Distribution of Day/Night Observations')\n",
        "plt.xlabel('Day/Night')\n",
        "plt.ylabel('Count')\n",
        "plt.show()"
      ],
      "metadata": {
        "id": "QKLxL9z8hqzU"
      },
      "execution_count": null,
      "outputs": []
    },
    {
      "cell_type": "code",
      "source": [
        "# Count plot for 'Satellite'\n",
        "plt.figure(figsize=(6, 4))\n",
        "sns.countplot(x='satellite', data=df)\n",
        "plt.title('Distribution of Satellite Observations')\n",
        "plt.xlabel('Satellite')\n",
        "plt.ylabel('Count')\n",
        "plt.show()"
      ],
      "metadata": {
        "id": "oNW10fO6hufp"
      },
      "execution_count": null,
      "outputs": []
    },
    {
      "cell_type": "code",
      "source": [
        "# Count plot for 'version'\n",
        "plt.figure(figsize=(6, 4))\n",
        "sns.countplot(x='version', data=df)\n",
        "plt.title('Distribution of Version')\n",
        "plt.xlabel('Version')\n",
        "plt.ylabel('Count')\n",
        "plt.show()"
      ],
      "metadata": {
        "id": "0fcTErDIhxos"
      },
      "execution_count": null,
      "outputs": []
    },
    {
      "cell_type": "code",
      "source": [
        "# Heatmap of correlations between numerical features\n",
        "plt.figure(figsize=(10, 8))\n",
        "correlation_matrix = df[['latitude', 'longitude', 'brightness', 'confidence', 'frp']].corr()\n",
        "sns.heatmap(correlation_matrix, annot=True, cmap='coolwarm', fmt=\".2f\")\n",
        "plt.title('Correlation Heatmap of Numerical Features')\n",
        "plt.show()"
      ],
      "metadata": {
        "id": "W-hSjwf7iD58"
      },
      "execution_count": null,
      "outputs": []
    },
    {
      "cell_type": "code",
      "source": [
        "numerical_cols = df.select_dtypes(include=np.number).columns"
      ],
      "metadata": {
        "id": "E_I1SuRYiMAu"
      },
      "execution_count": 23,
      "outputs": []
    },
    {
      "cell_type": "code",
      "source": [
        "numerical_cols"
      ],
      "metadata": {
        "id": "VUmXyMyGiNWw"
      },
      "execution_count": null,
      "outputs": []
    },
    {
      "cell_type": "code",
      "source": [
        "numerical_cols = ['brightness', 'scan', 'track', 'acq_time','confidence', 'version', 'bright_t31', 'frp']\n",
        "df[numerical_cols].hist(bins=50, figsize=(15, 10))\n",
        "plt.suptitle('Histograms of Numerical Features')\n",
        "plt.show()"
      ],
      "metadata": {
        "id": "jr-RzpVuiRDK"
      },
      "execution_count": null,
      "outputs": []
    },
    {
      "cell_type": "code",
      "source": [
        "import statsmodels.api as sm\n",
        "import scipy.stats as stats\n",
        "\n",
        "# List of numerical features to check for distribution\n",
        "numerical_features = ['brightness', 'confidence', 'frp', 'bright_t31', 'scan', 'track']\n",
        "\n",
        "for feature in numerical_features:\n",
        "    print(f\"Analyzing distribution for: {feature}\")\n",
        "\n",
        "    # KDE Plot\n",
        "    plt.figure(figsize=(12, 5))\n",
        "\n",
        "    plt.subplot(1, 2, 1)\n",
        "    sns.kdeplot(df[feature], fill=True)\n",
        "    plt.title(f'KDE Plot of {feature}')\n",
        "    plt.xlabel(feature)\n",
        "    plt.ylabel('Density')\n",
        "\n",
        "    # QQ Plot\n",
        "    plt.subplot(1, 2, 2)\n",
        "    stats.probplot(df[feature], dist=\"norm\", plot=plt)\n",
        "    plt.title(f'QQ Plot of {feature}')\n",
        "\n",
        "    plt.tight_layout()\n",
        "    plt.show()\n",
        "    print(\"-\" * 50)"
      ],
      "metadata": {
        "id": "eOi7X15PiVyB"
      },
      "execution_count": null,
      "outputs": []
    },
    {
      "cell_type": "code",
      "source": [
        "# --- Temporal Analysis ---\n",
        "# Convert 'acq_date' to datetime objects\n",
        "df['acq_date'] = pd.to_datetime(df['acq_date'])\n",
        "# Extract temporal features\n",
        "df['year'] = df['acq_date'].dt.year\n",
        "df['month'] = df['acq_date'].dt.month\n",
        "df['day_of_week'] = df['acq_date'].dt.dayofweek # Monday=0, Sunday=6\n",
        "df['day_of_year'] = df['acq_date'].dt.dayofyear\n",
        "df['hour'] = df['acq_time'].astype(str).str[:2].astype(int) # Assuming acq_time is HHMM"
      ],
      "metadata": {
        "id": "lS_mEjD_iXAc"
      },
      "execution_count": 27,
      "outputs": []
    },
    {
      "cell_type": "code",
      "source": [
        "# Visualize fire detections over months\n",
        "plt.figure(figsize=(10, 6))\n",
        "sns.countplot(data=df, x='month', palette='viridis')\n",
        "plt.title('Fire Detections by Month (2023)')\n",
        "plt.xlabel('Month')\n",
        "plt.ylabel('Number of Detections')\n",
        "plt.xticks(ticks=range(12), labels=['Jan', 'Feb', 'Mar', 'Apr', 'May', 'Jun', 'Jul', 'Aug', 'Sep', 'Oct', 'Nov', 'Dec'])\n",
        "plt.show()"
      ],
      "metadata": {
        "id": "6lUmGqq-iZY3"
      },
      "execution_count": null,
      "outputs": []
    },
    {
      "cell_type": "code",
      "source": [
        "# Visualize fire detections by day of the week\n",
        "plt.figure(figsize=(10, 6))\n",
        "sns.countplot(data=df, x='day_of_week', palette='viridis')\n",
        "plt.title('Fire Detections by Day of Week (2023)')\n",
        "plt.xlabel('Day of Week')\n",
        "plt.ylabel('Number of Detections')\n",
        "plt.xticks(ticks=range(7), labels=['Mon', 'Tue', 'Wed', 'Thu', 'Fri', 'Sat', 'Sun'])\n",
        "plt.show()"
      ],
      "metadata": {
        "id": "IZRhffHuidMA"
      },
      "execution_count": null,
      "outputs": []
    },
    {
      "cell_type": "code",
      "source": [
        "# Visualize outliers using box plots for key numerical features\n",
        "plt.figure(figsize=(12, 8))\n",
        "sns.boxplot(data=df[numerical_cols])\n",
        "plt.title('Box Plots for Key Numerical Features')\n",
        "plt.ylabel('Value')\n",
        "plt.show()"
      ],
      "metadata": {
        "id": "rbYngizBifmK"
      },
      "execution_count": null,
      "outputs": []
    },
    {
      "cell_type": "code",
      "source": [
        "def remove_outliers_iqr(df, column):\n",
        "  Q1 = df[column].quantile(0.25)\n",
        "  Q3 = df[column].quantile(0.75)\n",
        "  IQR = Q3 - Q1\n",
        "  lower_bound = Q1 - 1.5 * IQR\n",
        "  upper_bound = Q3 + 1.5 * IQR\n",
        "  df_cleaned = df[(df[column] >= lower_bound) & (df[column] <= upper_bound)].copy()\n",
        "  return df_cleaned\n",
        "\n",
        "# Apply outlier removal to numerical columns\n",
        "for col in numerical_cols:\n",
        "  df = remove_outliers_iqr(df, col)\n",
        "\n",
        "print(\"Shape after removing outliers:\", df.shape)"
      ],
      "metadata": {
        "colab": {
          "base_uri": "https://localhost:8080/"
        },
        "id": "yjufnf9qijD6",
        "outputId": "93064b58-5922-4d4c-b693-12ea3a3aca17"
      },
      "execution_count": 31,
      "outputs": [
        {
          "output_type": "stream",
          "name": "stdout",
          "text": [
            "Shape after removing outliers: (189370, 20)\n"
          ]
        }
      ]
    },
    {
      "cell_type": "code",
      "source": [
        "# Visualize box plots after outlier removal\n",
        "plt.figure(figsize=(12, 8))\n",
        "sns.boxplot(data=df[numerical_cols])\n",
        "plt.title('Box Plots for Numerical Features After Outlier Removal')\n",
        "plt.ylabel('Value')\n",
        "plt.show()"
      ],
      "metadata": {
        "id": "qmwY1k9Jilqd"
      },
      "execution_count": null,
      "outputs": []
    },
    {
      "cell_type": "code",
      "source": [
        "df.head()"
      ],
      "metadata": {
        "id": "2stuVJK7io3k"
      },
      "execution_count": null,
      "outputs": []
    },
    {
      "cell_type": "code",
      "source": [
        "df.type.value_counts()"
      ],
      "metadata": {
        "colab": {
          "base_uri": "https://localhost:8080/",
          "height": 209
        },
        "id": "fOuD36jkiq-7",
        "outputId": "d7a49752-32e7-4118-c46c-1577c29b5f1d"
      },
      "execution_count": 34,
      "outputs": [
        {
          "output_type": "execute_result",
          "data": {
            "text/plain": [
              "type\n",
              "0    182841\n",
              "2      6501\n",
              "3        28\n",
              "Name: count, dtype: int64"
            ],
            "text/html": [
              "<div>\n",
              "<style scoped>\n",
              "    .dataframe tbody tr th:only-of-type {\n",
              "        vertical-align: middle;\n",
              "    }\n",
              "\n",
              "    .dataframe tbody tr th {\n",
              "        vertical-align: top;\n",
              "    }\n",
              "\n",
              "    .dataframe thead th {\n",
              "        text-align: right;\n",
              "    }\n",
              "</style>\n",
              "<table border=\"1\" class=\"dataframe\">\n",
              "  <thead>\n",
              "    <tr style=\"text-align: right;\">\n",
              "      <th></th>\n",
              "      <th>count</th>\n",
              "    </tr>\n",
              "    <tr>\n",
              "      <th>type</th>\n",
              "      <th></th>\n",
              "    </tr>\n",
              "  </thead>\n",
              "  <tbody>\n",
              "    <tr>\n",
              "      <th>0</th>\n",
              "      <td>182841</td>\n",
              "    </tr>\n",
              "    <tr>\n",
              "      <th>2</th>\n",
              "      <td>6501</td>\n",
              "    </tr>\n",
              "    <tr>\n",
              "      <th>3</th>\n",
              "      <td>28</td>\n",
              "    </tr>\n",
              "  </tbody>\n",
              "</table>\n",
              "</div><br><label><b>dtype:</b> int64</label>"
            ]
          },
          "metadata": {},
          "execution_count": 34
        }
      ]
    },
    {
      "cell_type": "code",
      "source": [
        "categorical_cols = df.select_dtypes(include='object').columns"
      ],
      "metadata": {
        "id": "zXz4Gnvtis0G"
      },
      "execution_count": 35,
      "outputs": []
    },
    {
      "cell_type": "code",
      "source": [
        "categorical_cols"
      ],
      "metadata": {
        "id": "53YeExUtivbU"
      },
      "execution_count": null,
      "outputs": []
    },
    {
      "cell_type": "code",
      "source": [
        "# Select categorical columns for encoding\n",
        "categorical_cols_to_encode = ['daynight', 'satellite', 'instrument']\n",
        "\n",
        "# Apply One-Hot Encoding\n",
        "df_encoded = pd.get_dummies(df, columns=categorical_cols_to_encode, drop_first=True)"
      ],
      "metadata": {
        "id": "G7qxWPvliwMV"
      },
      "execution_count": 37,
      "outputs": []
    },
    {
      "cell_type": "code",
      "source": [
        "df_encoded.head(100)"
      ],
      "metadata": {
        "id": "5O1FOcqhiyr3"
      },
      "execution_count": null,
      "outputs": []
    },
    {
      "cell_type": "code",
      "source": [
        "df_encoded.type.value_counts()"
      ],
      "metadata": {
        "id": "r0NwG2_9i2-A"
      },
      "execution_count": null,
      "outputs": []
    },
    {
      "cell_type": "code",
      "source": [
        "# !pip install folium\n",
        "import folium\n",
        "\n",
        "# Create map and sample data\n",
        "india_map = folium.Map(location=[22.351115, 78.667743], zoom_start=5)\n",
        "sample_df = df_encoded.sample(n=min(10000, len(df_encoded)), random_state=42)\n",
        "\n",
        "# Add markers\n",
        "for _, row in sample_df.iterrows():\n",
        "    folium.CircleMarker(\n",
        "        location=[row['latitude'], row['longitude']],\n",
        "        radius=3,\n",
        "        color='red',\n",
        "        fill=True,\n",
        "        fill_opacity=0.6,\n",
        "        popup=f\"FRP: {row['frp']:.2f}, Date: {row['acq_date'].strftime('%Y-%m-%d')}\"\n",
        "    ).add_to(india_map)\n",
        "\n",
        "display(india_map)"
      ],
      "metadata": {
        "id": "0cvxwjXnkRrc"
      },
      "execution_count": null,
      "outputs": []
    },
    {
      "cell_type": "code",
      "source": [
        "scaler = StandardScaler()\n",
        "numerical_cols_to_scale = ['brightness', 'scan', 'track', 'confidence', 'bright_t31', 'frp']\n",
        "df_encoded[numerical_cols_to_scale] = scaler.fit_transform(df_encoded[numerical_cols_to_scale])\n",
        "df_encoded.head()"
      ],
      "metadata": {
        "id": "ANatEKO8kV7d"
      },
      "execution_count": null,
      "outputs": []
    },
    {
      "cell_type": "code",
      "source": [
        "df_encoded.info()"
      ],
      "metadata": {
        "id": "h6INxpFAkW_c"
      },
      "execution_count": null,
      "outputs": []
    },
    {
      "cell_type": "code",
      "source": [
        "# Heatmap of correlations between numerical features\n",
        "plt.figure(figsize=(10, 8))\n",
        "correlation_matrix = df_encoded[['brightness', 'scan', 'track', 'confidence', 'bright_t31', 'frp']].corr()\n",
        "sns.heatmap(correlation_matrix, annot=True, cmap='coolwarm', fmt=\".2f\")\n",
        "plt.title('Correlation Heatmap of Numerical Features')\n",
        "plt.show()"
      ],
      "metadata": {
        "id": "5yxq834wkZ38"
      },
      "execution_count": null,
      "outputs": []
    },
    {
      "cell_type": "code",
      "source": [
        "df_encoded.head()"
      ],
      "metadata": {
        "id": "J8CG4I0gkhyh"
      },
      "execution_count": null,
      "outputs": []
    },
    {
      "cell_type": "code",
      "source": [
        "df_encoded.type.value_counts()"
      ],
      "metadata": {
        "id": "KVm5_LhokkdS"
      },
      "execution_count": null,
      "outputs": []
    },
    {
      "cell_type": "code",
      "source": [
        "# Separate features (X) and target variable (y)\n",
        "# Assuming 'type' is the target variable you want to predict\n",
        "# Drop temporal features if not intended for prediction task that uses 'type' as target\n",
        "features = ['brightness', 'scan', 'track', 'confidence', 'bright_t31', 'frp']\n",
        "target = 'type'\n",
        "\n",
        "X = df_encoded[features]\n",
        "y = df_encoded[target]\n"
      ],
      "metadata": {
        "id": "2pfB_Yw8knBM"
      },
      "execution_count": 46,
      "outputs": []
    },
    {
      "cell_type": "code",
      "source": [
        "X"
      ],
      "metadata": {
        "id": "8Cse6XEfkpWR"
      },
      "execution_count": null,
      "outputs": []
    },
    {
      "cell_type": "code",
      "source": [
        "y\n"
      ],
      "metadata": {
        "id": "-jcfYSNnktnu"
      },
      "execution_count": null,
      "outputs": []
    },
    {
      "cell_type": "code",
      "source": [
        "!pip install -U imbalanced-learn\n",
        "from imblearn.over_sampling import SMOTE"
      ],
      "metadata": {
        "id": "JBBuTg-Rkw3B"
      },
      "execution_count": null,
      "outputs": []
    },
    {
      "cell_type": "code",
      "source": [
        "# Initialize SMOTE #week 2\n",
        "smote = SMOTE(random_state=42)\n",
        "\n",
        "# Apply SMOTE to the training data\n",
        "X_resampled, y_resampled = smote.fit_resample(X, y)\n",
        "\n",
        "# Check the distribution of the target variable after resampling\n",
        "print(\"Distribution of target variable after SMOTE:\")\n",
        "print(y_resampled.value_counts())"
      ],
      "metadata": {
        "id": "MGl6k8t8k2Ii"
      },
      "execution_count": null,
      "outputs": []
    },
    {
      "cell_type": "code",
      "source": [
        "# Split the dataset into training and testing sets\n",
        "# You can adjust the test_size and random_state as needed\n",
        "X_train, X_test, y_train, y_test = train_test_split(X_resampled, y_resampled, test_size=0.25, random_state=42, stratify=y_resampled)"
      ],
      "metadata": {
        "id": "r98h4vWuejXU"
      },
      "execution_count": 51,
      "outputs": []
    },
    {
      "cell_type": "code",
      "source": [
        "print(\"Shape of X_train:\", X_train.shape)\n",
        "print(\"Shape of X_test:\", X_test.shape)\n",
        "print(\"Shape of y_train:\", y_train.shape)\n",
        "print(\"Shape of y_test:\", y_test.shape)"
      ],
      "metadata": {
        "id": "Lk-nNtx5e5_n"
      },
      "execution_count": null,
      "outputs": []
    },
    {
      "cell_type": "code",
      "source": [
        "# Import Logistic Regression to Train from SKlearn\n",
        "loreg = LogisticRegression(max_iter=200)\n",
        "loreg.fit(X_train,y_train)\n",
        "loreg_pred = loreg.predict(X_test)\n",
        "score = accuracy_score(y_test,loreg_pred)\n",
        "cr = classification_report(y_test,loreg_pred)\n",
        "\n",
        "print(\"Logistic Regression\")\n",
        "print (\"Accuracy Score value: {:.4f}\".format(score))\n",
        "print (cr)"
      ],
      "metadata": {
        "id": "ywVzLYoie-G8"
      },
      "execution_count": null,
      "outputs": []
    },
    {
      "cell_type": "code",
      "source": [
        "from sklearn.tree import DecisionTreeClassifier\n",
        "dtc = DecisionTreeClassifier()\n",
        "dtc.fit(X_train,y_train)\n",
        "dtc_pred = dtc.predict(X_test)\n",
        "score = accuracy_score(y_test,dtc_pred)\n",
        "cr = classification_report(y_test,dtc_pred)\n",
        "\n",
        "print(\"Decision Tree\")\n",
        "print (\"Accuracy Score value: {:.4f}\".format(score))\n",
        "print (cr)"
      ],
      "metadata": {
        "id": "-jkLssg2fBRo"
      },
      "execution_count": null,
      "outputs": []
    },
    {
      "cell_type": "code",
      "source": [
        "dt_cm = ConfusionMatrixDisplay.from_estimator(dtc, X_test, y_test)"
      ],
      "metadata": {
        "id": "wXI2Ql-YfPUs"
      },
      "execution_count": null,
      "outputs": []
    },
    {
      "cell_type": "code",
      "source": [
        "rfc = RandomForestClassifier()\n",
        "rfc.fit(X_train,y_train)\n",
        "rfc_pred = rfc.predict(X_test)\n",
        "score = accuracy_score(y_test,rfc_pred)\n",
        "cr = classification_report(y_test,rfc_pred)\n",
        "\n",
        "print(\"Random Forest\")\n",
        "print (\"Accuracy Score value: {:.4f}\".format(score))\n",
        "print (cr)"
      ],
      "metadata": {
        "id": "5VNK13pRfTLQ"
      },
      "execution_count": null,
      "outputs": []
    },
    {
      "cell_type": "code",
      "source": [
        "rf_cm = ConfusionMatrixDisplay.from_estimator(rfc, X_test, y_test)"
      ],
      "metadata": {
        "id": "DLZSJnOzfV_f"
      },
      "execution_count": null,
      "outputs": []
    },
    {
      "cell_type": "code",
      "source": [
        "# KNeighborsClassifier to Train from SKlearn\n",
        "knnc = KNeighborsClassifier()\n",
        "knnc.fit(X_train,y_train)\n",
        "knn_pred = knnc.predict(X_test)\n",
        "score = accuracy_score(y_test,knn_pred)\n",
        "cr = classification_report(y_test,knn_pred)\n",
        "\n",
        "print(\"KNeighbors Classifier\")\n",
        "print (\"Accuracy Score value: {:.4f}\".format(score))\n",
        "print (cr)"
      ],
      "metadata": {
        "id": "AGxpwNkqfaV-"
      },
      "execution_count": null,
      "outputs": []
    },
    {
      "cell_type": "code",
      "source": [
        "knn_cm = ConfusionMatrixDisplay.from_estimator(knnc, X_test, y_test)"
      ],
      "metadata": {
        "id": "QgPC6KBVfd8P"
      },
      "execution_count": null,
      "outputs": []
    },
    {
      "cell_type": "code",
      "source": [
        "# Collect the accuracies of each model\n",
        "model_accuracies = {\n",
        "    \"Logistic Regression\": accuracy_score(y_test, loreg_pred),\n",
        "    \"Decision Tree\": accuracy_score(y_test, dtc_pred),\n",
        "    \"Random Forest\": accuracy_score(y_test, rfc_pred),\n",
        "    \"KNeighbors Classifier\": accuracy_score(y_test, knn_pred)\n",
        "}\n",
        "\n",
        "# Find the best model\n",
        "best_model_name = max(model_accuracies, key=model_accuracies.get)\n",
        "best_model_accuracy = model_accuracies[best_model_name]\n",
        "\n",
        "print(\"Model Accuracies:\")\n",
        "for model, accuracy in model_accuracies.items():\n",
        "    print(f\"{model}: {accuracy:.4f}\")\n",
        "\n",
        "print(f\"\\nBest Model: {best_model_name} with Accuracy: {best_model_accuracy:.4f}\")"
      ],
      "metadata": {
        "id": "v8ZSA1diff1_"
      },
      "execution_count": null,
      "outputs": []
    },
    {
      "cell_type": "code",
      "source": [
        "import joblib\n",
        "\n",
        "# Save the best model\n",
        "# Based on the previous output, let's assume Random Forest was the best model.\n",
        "best_model = rfc\n",
        "\n",
        "joblib.dump(best_model, 'best_fire_detection_model.pkl')\n",
        "\n",
        "# Save the StandardScaler instance\n",
        "joblib.dump(scaler, 'scaler.pkl')\n",
        "\n",
        "print(\"Best model and scaler saved successfully.\")"
      ],
      "metadata": {
        "colab": {
          "base_uri": "https://localhost:8080/"
        },
        "id": "vxt1rTqVfi7O",
        "outputId": "548cb9ad-bf1c-4b11-ca80-6580dcb717b9"
      },
      "execution_count": 61,
      "outputs": [
        {
          "output_type": "stream",
          "name": "stdout",
          "text": [
            "Best model and scaler saved successfully.\n"
          ]
        }
      ]
    }
  ]
}